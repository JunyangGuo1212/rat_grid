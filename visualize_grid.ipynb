{
 "cells": [
  {
   "cell_type": "code",
   "execution_count": 6,
   "metadata": {},
   "outputs": [
    {
     "name": "stderr",
     "output_type": "stream",
     "text": [
      "/Users/miyoshi/tensorflow1.7/lib/python3.6/site-packages/h5py/__init__.py:36: FutureWarning: Conversion of the second argument of issubdtype from `float` to `np.floating` is deprecated. In future, it will be treated as `np.float64 == np.dtype(float).type`.\n",
      "  from ._conv import register_converters as _register_converters\n"
     ]
    }
   ],
   "source": [
    "import matplotlib.pyplot as plt\n",
    "import numpy as np\n",
    "import tensorflow as tf\n",
    "\n",
    "%matplotlib inline"
   ]
  },
  {
   "cell_type": "code",
   "execution_count": 7,
   "metadata": {},
   "outputs": [],
   "source": [
    "from model import Model\n",
    "from data_manager import DataManager\n",
    "from hd_cells import HDCells\n",
    "from place_cells import PlaceCells"
   ]
  },
  {
   "cell_type": "code",
   "execution_count": 8,
   "metadata": {},
   "outputs": [],
   "source": [
    "def load_checkpoints(sess):\n",
    "    saver = tf.train.Saver(max_to_keep=2)\n",
    "    save_dir = \"./saved\"\n",
    "    checkpoint_dir = save_dir + \"/checkpoints\"\n",
    "    \n",
    "    checkpoint = tf.train.get_checkpoint_state(checkpoint_dir)\n",
    "    if checkpoint and checkpoint.model_checkpoint_path:\n",
    "        saver.restore(sess, checkpoint.model_checkpoint_path)"
   ]
  },
  {
   "cell_type": "code",
   "execution_count": 9,
   "metadata": {},
   "outputs": [
    {
     "name": "stdout",
     "output_type": "stream",
     "text": [
      "WARNING:tensorflow:From /Users/miyoshi/Documents/py_space/rat_grid/model.py:65: softmax_cross_entropy_with_logits (from tensorflow.python.ops.nn_ops) is deprecated and will be removed in a future version.\n",
      "Instructions for updating:\n",
      "\n",
      "Future major versions of TensorFlow will allow gradients to flow\n",
      "into the labels input on backprop by default.\n",
      "\n",
      "See tf.nn.softmax_cross_entropy_with_logits_v2.\n",
      "\n",
      "INFO:tensorflow:Restoring parameters from ./saved/checkpoints/checkpoint-54999\n"
     ]
    }
   ],
   "source": [
    "np.random.seed(1)\n",
    "    \n",
    "data_manager = DataManager()\n",
    "\n",
    "place_cells = PlaceCells()\n",
    "hd_cells = HDCells()\n",
    "\n",
    "data_manager.prepare(place_cells, hd_cells)\n",
    "\n",
    "model = Model(place_cell_size=place_cells.cell_size,\n",
    "                          hd_cell_size=hd_cells.cell_size,\n",
    "                          sequence_length=100)\n",
    "\n",
    "sess = tf.Session()\n",
    "sess.run(tf.global_variables_initializer())\n",
    "\n",
    "# Load checkpoints\n",
    "load_checkpoints(sess)"
   ]
  },
  {
   "cell_type": "code",
   "execution_count": 18,
   "metadata": {},
   "outputs": [],
   "source": [
    "batch_size = 10\n",
    "sequence_length = 100\n",
    "\n",
    "index_size = data_manager.get_confirm_index_size(batch_size, sequence_length)\n",
    "\n",
    "for index in range(index_size):\n",
    "    out = data_manager.get_confirm_batch(batch_size, sequence_length, index)\n",
    "    inputs_batch, place_init_batch, hd_init_batch, place_pos_batch = out\n",
    "    \n",
    "    g = sess.run(\n",
    "            model.g,\n",
    "            feed_dict = {\n",
    "                model.inputs : inputs_batch,\n",
    "                model.place_init : place_init_batch,\n",
    "                model.hd_init : hd_init_batch,\n",
    "                model.keep_prob : 1.0\n",
    "            })\n"
   ]
  },
  {
   "cell_type": "code",
   "execution_count": null,
   "metadata": {},
   "outputs": [],
   "source": []
  }
 ],
 "metadata": {
  "kernelspec": {
   "display_name": "Python 3",
   "language": "python",
   "name": "python3"
  },
  "language_info": {
   "codemirror_mode": {
    "name": "ipython",
    "version": 3
   },
   "file_extension": ".py",
   "mimetype": "text/x-python",
   "name": "python",
   "nbconvert_exporter": "python",
   "pygments_lexer": "ipython3",
   "version": "3.6.5"
  }
 },
 "nbformat": 4,
 "nbformat_minor": 2
}
